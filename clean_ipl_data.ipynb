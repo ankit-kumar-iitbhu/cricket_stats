{
  "nbformat": 4,
  "nbformat_minor": 0,
  "metadata": {
    "colab": {
      "name": "clean_ipl_data.ipynb",
      "provenance": []
    },
    "kernelspec": {
      "display_name": "Python 3",
      "name": "python3"
    },
    "language_info": {
      "name": "python"
    }
  },
  "cells": [
    {
      "cell_type": "code",
      "metadata": {
        "id": "pSPGZwvIwSjl"
      },
      "source": [
        "import pandas as pd\n",
        "from pprint import pprint"
      ],
      "execution_count": 29,
      "outputs": []
    },
    {
      "cell_type": "code",
      "metadata": {
        "colab": {
          "base_uri": "https://localhost:8080/"
        },
        "id": "UgxyeIBGxCis",
        "outputId": "8b874901-a644-4f20-bf3f-264e120c10d3"
      },
      "source": [
        "df= pd.read_csv('/content/drive/MyDrive/all_matches.csv')"
      ],
      "execution_count": 30,
      "outputs": [
        {
          "output_type": "stream",
          "text": [
            "/usr/local/lib/python3.7/dist-packages/IPython/core/interactiveshell.py:2718: DtypeWarning: Columns (1) have mixed types.Specify dtype option on import or set low_memory=False.\n",
            "  interactivity=interactivity, compiler=compiler, result=result)\n"
          ],
          "name": "stderr"
        }
      ]
    },
    {
      "cell_type": "code",
      "metadata": {
        "id": "10tiRLX0wa4D",
        "colab": {
          "base_uri": "https://localhost:8080/",
          "height": 394
        },
        "outputId": "e2c40c9a-929d-42bb-ffe2-5ed3b8dc1681"
      },
      "source": [
        "df.head()"
      ],
      "execution_count": 31,
      "outputs": [
        {
          "output_type": "execute_result",
          "data": {
            "text/html": [
              "<div>\n",
              "<style scoped>\n",
              "    .dataframe tbody tr th:only-of-type {\n",
              "        vertical-align: middle;\n",
              "    }\n",
              "\n",
              "    .dataframe tbody tr th {\n",
              "        vertical-align: top;\n",
              "    }\n",
              "\n",
              "    .dataframe thead th {\n",
              "        text-align: right;\n",
              "    }\n",
              "</style>\n",
              "<table border=\"1\" class=\"dataframe\">\n",
              "  <thead>\n",
              "    <tr style=\"text-align: right;\">\n",
              "      <th></th>\n",
              "      <th>match_id</th>\n",
              "      <th>season</th>\n",
              "      <th>start_date</th>\n",
              "      <th>venue</th>\n",
              "      <th>innings</th>\n",
              "      <th>ball</th>\n",
              "      <th>batting_team</th>\n",
              "      <th>bowling_team</th>\n",
              "      <th>striker</th>\n",
              "      <th>non_striker</th>\n",
              "      <th>bowler</th>\n",
              "      <th>runs_off_bat</th>\n",
              "      <th>extras</th>\n",
              "      <th>wides</th>\n",
              "      <th>noballs</th>\n",
              "      <th>byes</th>\n",
              "      <th>legbyes</th>\n",
              "      <th>penalty</th>\n",
              "      <th>wicket_type</th>\n",
              "      <th>player_dismissed</th>\n",
              "      <th>other_wicket_type</th>\n",
              "      <th>other_player_dismissed</th>\n",
              "    </tr>\n",
              "  </thead>\n",
              "  <tbody>\n",
              "    <tr>\n",
              "      <th>0</th>\n",
              "      <td>335982</td>\n",
              "      <td>2007/08</td>\n",
              "      <td>2008-04-18</td>\n",
              "      <td>M Chinnaswamy Stadium</td>\n",
              "      <td>1</td>\n",
              "      <td>0.1</td>\n",
              "      <td>Kolkata Knight Riders</td>\n",
              "      <td>Royal Challengers Bangalore</td>\n",
              "      <td>SC Ganguly</td>\n",
              "      <td>BB McCullum</td>\n",
              "      <td>P Kumar</td>\n",
              "      <td>0</td>\n",
              "      <td>1</td>\n",
              "      <td>NaN</td>\n",
              "      <td>NaN</td>\n",
              "      <td>NaN</td>\n",
              "      <td>1.0</td>\n",
              "      <td>NaN</td>\n",
              "      <td>NaN</td>\n",
              "      <td>NaN</td>\n",
              "      <td>NaN</td>\n",
              "      <td>NaN</td>\n",
              "    </tr>\n",
              "    <tr>\n",
              "      <th>1</th>\n",
              "      <td>335982</td>\n",
              "      <td>2007/08</td>\n",
              "      <td>2008-04-18</td>\n",
              "      <td>M Chinnaswamy Stadium</td>\n",
              "      <td>1</td>\n",
              "      <td>0.2</td>\n",
              "      <td>Kolkata Knight Riders</td>\n",
              "      <td>Royal Challengers Bangalore</td>\n",
              "      <td>BB McCullum</td>\n",
              "      <td>SC Ganguly</td>\n",
              "      <td>P Kumar</td>\n",
              "      <td>0</td>\n",
              "      <td>0</td>\n",
              "      <td>NaN</td>\n",
              "      <td>NaN</td>\n",
              "      <td>NaN</td>\n",
              "      <td>NaN</td>\n",
              "      <td>NaN</td>\n",
              "      <td>NaN</td>\n",
              "      <td>NaN</td>\n",
              "      <td>NaN</td>\n",
              "      <td>NaN</td>\n",
              "    </tr>\n",
              "    <tr>\n",
              "      <th>2</th>\n",
              "      <td>335982</td>\n",
              "      <td>2007/08</td>\n",
              "      <td>2008-04-18</td>\n",
              "      <td>M Chinnaswamy Stadium</td>\n",
              "      <td>1</td>\n",
              "      <td>0.3</td>\n",
              "      <td>Kolkata Knight Riders</td>\n",
              "      <td>Royal Challengers Bangalore</td>\n",
              "      <td>BB McCullum</td>\n",
              "      <td>SC Ganguly</td>\n",
              "      <td>P Kumar</td>\n",
              "      <td>0</td>\n",
              "      <td>1</td>\n",
              "      <td>1.0</td>\n",
              "      <td>NaN</td>\n",
              "      <td>NaN</td>\n",
              "      <td>NaN</td>\n",
              "      <td>NaN</td>\n",
              "      <td>NaN</td>\n",
              "      <td>NaN</td>\n",
              "      <td>NaN</td>\n",
              "      <td>NaN</td>\n",
              "    </tr>\n",
              "    <tr>\n",
              "      <th>3</th>\n",
              "      <td>335982</td>\n",
              "      <td>2007/08</td>\n",
              "      <td>2008-04-18</td>\n",
              "      <td>M Chinnaswamy Stadium</td>\n",
              "      <td>1</td>\n",
              "      <td>0.4</td>\n",
              "      <td>Kolkata Knight Riders</td>\n",
              "      <td>Royal Challengers Bangalore</td>\n",
              "      <td>BB McCullum</td>\n",
              "      <td>SC Ganguly</td>\n",
              "      <td>P Kumar</td>\n",
              "      <td>0</td>\n",
              "      <td>0</td>\n",
              "      <td>NaN</td>\n",
              "      <td>NaN</td>\n",
              "      <td>NaN</td>\n",
              "      <td>NaN</td>\n",
              "      <td>NaN</td>\n",
              "      <td>NaN</td>\n",
              "      <td>NaN</td>\n",
              "      <td>NaN</td>\n",
              "      <td>NaN</td>\n",
              "    </tr>\n",
              "    <tr>\n",
              "      <th>4</th>\n",
              "      <td>335982</td>\n",
              "      <td>2007/08</td>\n",
              "      <td>2008-04-18</td>\n",
              "      <td>M Chinnaswamy Stadium</td>\n",
              "      <td>1</td>\n",
              "      <td>0.5</td>\n",
              "      <td>Kolkata Knight Riders</td>\n",
              "      <td>Royal Challengers Bangalore</td>\n",
              "      <td>BB McCullum</td>\n",
              "      <td>SC Ganguly</td>\n",
              "      <td>P Kumar</td>\n",
              "      <td>0</td>\n",
              "      <td>0</td>\n",
              "      <td>NaN</td>\n",
              "      <td>NaN</td>\n",
              "      <td>NaN</td>\n",
              "      <td>NaN</td>\n",
              "      <td>NaN</td>\n",
              "      <td>NaN</td>\n",
              "      <td>NaN</td>\n",
              "      <td>NaN</td>\n",
              "      <td>NaN</td>\n",
              "    </tr>\n",
              "  </tbody>\n",
              "</table>\n",
              "</div>"
            ],
            "text/plain": [
              "   match_id   season  ... other_wicket_type other_player_dismissed\n",
              "0    335982  2007/08  ...               NaN                    NaN\n",
              "1    335982  2007/08  ...               NaN                    NaN\n",
              "2    335982  2007/08  ...               NaN                    NaN\n",
              "3    335982  2007/08  ...               NaN                    NaN\n",
              "4    335982  2007/08  ...               NaN                    NaN\n",
              "\n",
              "[5 rows x 22 columns]"
            ]
          },
          "metadata": {
            "tags": []
          },
          "execution_count": 31
        }
      ]
    },
    {
      "cell_type": "code",
      "metadata": {
        "colab": {
          "base_uri": "https://localhost:8080/"
        },
        "id": "86aCNuuStCul",
        "outputId": "9a869e33-2f7e-4c4c-d5b7-7cbd7dc1188e"
      },
      "source": [
        "print(df.dtypes)"
      ],
      "execution_count": 32,
      "outputs": [
        {
          "output_type": "stream",
          "text": [
            "match_id                    int64\n",
            "season                     object\n",
            "start_date                 object\n",
            "venue                      object\n",
            "innings                     int64\n",
            "ball                      float64\n",
            "batting_team               object\n",
            "bowling_team               object\n",
            "striker                    object\n",
            "non_striker                object\n",
            "bowler                     object\n",
            "runs_off_bat                int64\n",
            "extras                      int64\n",
            "wides                     float64\n",
            "noballs                   float64\n",
            "byes                      float64\n",
            "legbyes                   float64\n",
            "penalty                   float64\n",
            "wicket_type                object\n",
            "player_dismissed           object\n",
            "other_wicket_type         float64\n",
            "other_player_dismissed    float64\n",
            "dtype: object\n"
          ],
          "name": "stdout"
        }
      ]
    },
    {
      "cell_type": "code",
      "metadata": {
        "id": "29ZXAkpn-mws"
      },
      "source": [
        "df['wides'] = df['wides'].fillna(0)\n",
        "df['wides'] = df['wides'].astype(int)\n",
        "\n",
        "df['noballs'] = df['noballs'].fillna(0)\n",
        "df['noballs'] = df['noballs'].astype(int)\n",
        "\n",
        "df['byes'] = df['byes'].fillna(0)\n",
        "df['byes'] = df['byes'].astype(int)\n",
        "\n",
        "df['legbyes'] = df['legbyes'].fillna(0)\n",
        "df['legbyes'] = df['legbyes'].astype(int)\n",
        "\n",
        "df['penalty'] = df['penalty'].fillna(0)\n",
        "df['penalty'] = df['penalty'].astype(int)\n"
      ],
      "execution_count": 33,
      "outputs": []
    },
    {
      "cell_type": "code",
      "metadata": {
        "id": "MT78yFu5tsHS"
      },
      "source": [
        "df['ball'] = df['ball'].astype(str)\n"
      ],
      "execution_count": 34,
      "outputs": []
    },
    {
      "cell_type": "code",
      "metadata": {
        "colab": {
          "base_uri": "https://localhost:8080/"
        },
        "id": "sQlLQnWk_EFH",
        "outputId": "a75ef56f-67ec-4f8c-cece-eb899bcb1e3e"
      },
      "source": [
        "df.dtypes"
      ],
      "execution_count": 35,
      "outputs": [
        {
          "output_type": "execute_result",
          "data": {
            "text/plain": [
              "match_id                    int64\n",
              "season                     object\n",
              "start_date                 object\n",
              "venue                      object\n",
              "innings                     int64\n",
              "ball                       object\n",
              "batting_team               object\n",
              "bowling_team               object\n",
              "striker                    object\n",
              "non_striker                object\n",
              "bowler                     object\n",
              "runs_off_bat                int64\n",
              "extras                      int64\n",
              "wides                       int64\n",
              "noballs                     int64\n",
              "byes                        int64\n",
              "legbyes                     int64\n",
              "penalty                     int64\n",
              "wicket_type                object\n",
              "player_dismissed           object\n",
              "other_wicket_type         float64\n",
              "other_player_dismissed    float64\n",
              "dtype: object"
            ]
          },
          "metadata": {
            "tags": []
          },
          "execution_count": 35
        }
      ]
    },
    {
      "cell_type": "code",
      "metadata": {
        "colab": {
          "base_uri": "https://localhost:8080/"
        },
        "id": "bB9dbPYYb-8L",
        "outputId": "ad105400-418a-4bd6-e72e-ebd06aed5ec0"
      },
      "source": [
        "#df.bowler.unique()\n",
        "df.bowler.unique().size"
      ],
      "execution_count": 36,
      "outputs": [
        {
          "output_type": "execute_result",
          "data": {
            "text/plain": [
              "429"
            ]
          },
          "metadata": {
            "tags": []
          },
          "execution_count": 36
        }
      ]
    },
    {
      "cell_type": "code",
      "metadata": {
        "colab": {
          "base_uri": "https://localhost:8080/"
        },
        "id": "Cw2e0rRMcaLJ",
        "outputId": "aba9619f-7783-4b16-e635-8bdad1494bf3"
      },
      "source": [
        "#df.striker.unique()\n",
        "df.striker.unique().size"
      ],
      "execution_count": 37,
      "outputs": [
        {
          "output_type": "execute_result",
          "data": {
            "text/plain": [
              "547"
            ]
          },
          "metadata": {
            "tags": []
          },
          "execution_count": 37
        }
      ]
    },
    {
      "cell_type": "markdown",
      "metadata": {
        "id": "cXeVsHmHk9ae"
      },
      "source": [
        "Updating Teams Names:- "
      ]
    },
    {
      "cell_type": "code",
      "metadata": {
        "colab": {
          "base_uri": "https://localhost:8080/"
        },
        "id": "PwfTLFwyd5Y5",
        "outputId": "e113d02f-b6d9-4e96-ad2e-a387f1fea323"
      },
      "source": [
        "df.batting_team.unique()"
      ],
      "execution_count": 38,
      "outputs": [
        {
          "output_type": "execute_result",
          "data": {
            "text/plain": [
              "array(['Kolkata Knight Riders', 'Royal Challengers Bangalore',\n",
              "       'Chennai Super Kings', 'Kings XI Punjab', 'Rajasthan Royals',\n",
              "       'Delhi Daredevils', 'Deccan Chargers', 'Mumbai Indians',\n",
              "       'Kochi Tuskers Kerala', 'Pune Warriors', 'Sunrisers Hyderabad',\n",
              "       'Rising Pune Supergiants', 'Gujarat Lions',\n",
              "       'Rising Pune Supergiant', 'Delhi Capitals', 'Punjab Kings'],\n",
              "      dtype=object)"
            ]
          },
          "metadata": {
            "tags": []
          },
          "execution_count": 38
        }
      ]
    },
    {
      "cell_type": "code",
      "metadata": {
        "id": "3xOCWwpIe8aC"
      },
      "source": [
        "df=df.replace(\"Rising Pune Supergiant\",\"Rising Pune Supergiants\")\n",
        "df=df.replace('Delhi Daredevils','Delhi Capitals')\n",
        "df=df.replace('Deccan Chargers','Sunrisers Hyderabad')\n",
        "df=df.replace('Kings XI Punjab','Punjab Kings')"
      ],
      "execution_count": 39,
      "outputs": []
    },
    {
      "cell_type": "code",
      "metadata": {
        "colab": {
          "base_uri": "https://localhost:8080/"
        },
        "id": "M55jQKO1kT_T",
        "outputId": "3c6691c9-7701-4261-959c-8acd1b8df43c"
      },
      "source": [
        "df.batting_team.unique()"
      ],
      "execution_count": 40,
      "outputs": [
        {
          "output_type": "execute_result",
          "data": {
            "text/plain": [
              "array(['Kolkata Knight Riders', 'Royal Challengers Bangalore',\n",
              "       'Chennai Super Kings', 'Punjab Kings', 'Rajasthan Royals',\n",
              "       'Delhi Capitals', 'Sunrisers Hyderabad', 'Mumbai Indians',\n",
              "       'Kochi Tuskers Kerala', 'Pune Warriors', 'Rising Pune Supergiants',\n",
              "       'Gujarat Lions'], dtype=object)"
            ]
          },
          "metadata": {
            "tags": []
          },
          "execution_count": 40
        }
      ]
    },
    {
      "cell_type": "markdown",
      "metadata": {
        "id": "YovBGoJHlC9Y"
      },
      "source": [
        "Updating Season"
      ]
    },
    {
      "cell_type": "code",
      "metadata": {
        "colab": {
          "base_uri": "https://localhost:8080/"
        },
        "id": "w8b3mNjelRgU",
        "outputId": "5c4a3a06-7154-425a-afd1-c82299793390"
      },
      "source": [
        "pprint(df.season.unique())"
      ],
      "execution_count": 41,
      "outputs": [
        {
          "output_type": "stream",
          "text": [
            "array(['2007/08', '2009', '2009/10', '2011', '2012', 2012, 2013, 2014,\n",
            "       2015, 2016, 2017, 2019, 2018, '2018', '2019', '2020/21', '2021',\n",
            "       2021], dtype=object)\n"
          ],
          "name": "stdout"
        }
      ]
    },
    {
      "cell_type": "code",
      "metadata": {
        "id": "hF9EYkZCmMBP"
      },
      "source": [
        "df=df.replace('2007/08','2008')\n",
        "df=df.replace('2009/10','2010')\n",
        "df=df.replace('2020/21','2020')"
      ],
      "execution_count": 42,
      "outputs": []
    },
    {
      "cell_type": "code",
      "metadata": {
        "colab": {
          "base_uri": "https://localhost:8080/"
        },
        "id": "r4oJJTLzmdqP",
        "outputId": "b7b9d56c-4c4f-40a2-95f3-d2616db6beed"
      },
      "source": [
        "pprint(df.season.unique())"
      ],
      "execution_count": 43,
      "outputs": [
        {
          "output_type": "stream",
          "text": [
            "array(['2008', '2009', '2010', '2011', '2012', 2012, 2013, 2014, 2015,\n",
            "       2016, 2017, 2019, 2018, '2018', '2019', '2020', '2021', 2021],\n",
            "      dtype=object)\n"
          ],
          "name": "stdout"
        }
      ]
    },
    {
      "cell_type": "markdown",
      "metadata": {
        "id": "7Bm8lFPxmoc9"
      },
      "source": [
        "Correction in ball column\n",
        "(Bug :- if an over have more than 9 ball only first digit is shown e.g. for 10.11, 10.1 is shown)"
      ]
    },
    {
      "cell_type": "code",
      "metadata": {
        "colab": {
          "base_uri": "https://localhost:8080/"
        },
        "id": "i294wTn1mmgf",
        "outputId": "35682efb-3a5a-449d-84d9-b61e2d012a64"
      },
      "source": [
        "pprint(df.ball.unique())"
      ],
      "execution_count": 44,
      "outputs": [
        {
          "output_type": "stream",
          "text": [
            "array(['0.1', '0.2', '0.3', '0.4', '0.5', '0.6', '0.7', '1.1', '1.2',\n",
            "       '1.3', '1.4', '1.5', '1.6', '2.1', '2.2', '2.3', '2.4', '2.5',\n",
            "       '2.6', '3.1', '3.2', '3.3', '3.4', '3.5', '3.6', '3.7', '4.1',\n",
            "       '4.2', '4.3', '4.4', '4.5', '4.6', '5.1', '5.2', '5.3', '5.4',\n",
            "       '5.5', '5.6', '6.1', '6.2', '6.3', '6.4', '6.5', '6.6', '7.1',\n",
            "       '7.2', '7.3', '7.4', '7.5', '7.6', '8.1', '8.2', '8.3', '8.4',\n",
            "       '8.5', '8.6', '9.1', '9.2', '9.3', '9.4', '9.5', '9.6', '10.1',\n",
            "       '10.2', '10.3', '10.4', '10.5', '10.6', '11.1', '11.2', '11.3',\n",
            "       '11.4', '11.5', '11.6', '12.1', '12.2', '12.3', '12.4', '12.5',\n",
            "       '12.6', '12.7', '13.1', '13.2', '13.3', '13.4', '13.5', '13.6',\n",
            "       '14.1', '14.2', '14.3', '14.4', '14.5', '14.6', '14.7', '15.1',\n",
            "       '15.2', '15.3', '15.4', '15.5', '15.6', '16.1', '16.2', '16.3',\n",
            "       '16.4', '16.5', '16.6', '17.1', '17.2', '17.3', '17.4', '17.5',\n",
            "       '17.6', '18.1', '18.2', '18.3', '18.4', '18.5', '18.6', '19.1',\n",
            "       '19.2', '19.3', '19.4', '19.5', '19.6', '2.7', '6.7', '6.8', '8.7',\n",
            "       '8.8', '9.7', '1.7', '12.8', '5.7', '5.8', '13.7', '7.7', '1.8',\n",
            "       '15.7', '16.7', '11.7', '11.8', '11.9', '4.7', '13.8', '19.7',\n",
            "       '3.8', '17.7', '18.7', '0.8', '10.7', '10.8', '10.9', '18.8',\n",
            "       '7.8', '2.8', '6.9', '1.9', '5.9', '19.8', '19.9', '4.8', '0.9',\n",
            "       '18.9', '16.8', '16.9', '17.8', '14.8', '3.9', '15.8', '9.8',\n",
            "       '17.9', '4.9', '14.9', '2.9', '13.9', '8.9', '15.9', '9.9', '7.9',\n",
            "       '12.9'], dtype=object)\n"
          ],
          "name": "stdout"
        }
      ]
    },
    {
      "cell_type": "code",
      "metadata": {
        "colab": {
          "base_uri": "https://localhost:8080/"
        },
        "id": "7u5N5154nUKO",
        "outputId": "33c1c8c3-8830-4a5c-9292-193f5de73da3"
      },
      "source": [
        "# return true if ball1 should be after ball2\n",
        "def ball_greater(ball1,ball2):\n",
        "  ball1=ball1.split(\".\")\n",
        "  ball2=ball2.split(\".\")\n",
        "  return (int(ball1[0])>int(ball2[0])) or ((int(ball1[0])==int(ball2[0])) and (int(ball1[1])>int(ball2[1])))\n",
        " \n",
        "print(ball_greater(\"7.1\",\"6.8\"))\n",
        "print(ball_greater(\"6.7\",\"7.1\"))\n",
        "print(ball_greater(\"6.3\",\"6.4\"))\n",
        "print(ball_greater(\"6.4\",\"6.3\"))"
      ],
      "execution_count": 45,
      "outputs": [
        {
          "output_type": "stream",
          "text": [
            "True\n",
            "False\n",
            "False\n",
            "True\n"
          ],
          "name": "stdout"
        }
      ]
    },
    {
      "cell_type": "code",
      "metadata": {
        "colab": {
          "base_uri": "https://localhost:8080/"
        },
        "id": "mqgg8Z2Qs5aY",
        "outputId": "c7725c2c-0b83-4a90-c4f1-80719d60452d"
      },
      "source": [
        "#return next ball (of same over)\n",
        "def next_ball(ball):\n",
        "  [over,ball]=ball.split(\".\")\n",
        "  return over + \".\"+ str(int(ball)+1)\n",
        " \n",
        "print(next_ball(\"12.9\"))\n",
        "\n",
        "print(next_ball(\"0.4\"))"
      ],
      "execution_count": 46,
      "outputs": [
        {
          "output_type": "stream",
          "text": [
            "12.10\n",
            "0.5\n"
          ],
          "name": "stdout"
        }
      ]
    },
    {
      "cell_type": "code",
      "metadata": {
        "id": "QBmh8GWqvPuU"
      },
      "source": [
        ""
      ],
      "execution_count": 46,
      "outputs": []
    },
    {
      "cell_type": "code",
      "metadata": {
        "colab": {
          "base_uri": "https://localhost:8080/"
        },
        "id": "i-07QWKUnVPn",
        "outputId": "c76797e4-ebf8-4b27-88c4-73e36f942920"
      },
      "source": [
        "#contains indexes and value of ball column\n",
        "ball_update_needed = []\n",
        "\n",
        "count=0\n",
        "count1=0\n",
        "last_match=0\n",
        "last_innings=0\n",
        "last_ball= '0.0'\n",
        " \n",
        "for row in df.itertuples(index=True, name='Pandas'):\n",
        "  #row[1] -> match_id,row[5]->innings,row[6]->ball\n",
        "  #print(row[1],row[5],row[6],row[0])\n",
        "  #print(last_match,last_innings,last_ball)\n",
        "  if(row[1]!=last_match or row[5]!=last_innings):\n",
        "    last_ball='0.0'\n",
        "    count1+=1\n",
        "  if(ball_greater(last_ball,row[6])):\n",
        "    print(row[0],last_ball,df['ball'][row[0]])\n",
        "    ball_update_needed.append((row[0],next_ball(last_ball)))\n",
        "    last_ball=next_ball(last_ball)\n",
        "    count+=1\n",
        "  else:\n",
        "    last_ball=row[6]\n",
        " \n",
        "  last_match=row[1]\n",
        "  last_innings=row[5]\n",
        " \n",
        "print(count,count1)\n",
        "\n"
      ],
      "execution_count": 47,
      "outputs": [
        {
          "output_type": "stream",
          "text": [
            "5406 6.9 6.1\n",
            "9348 18.9 18.1\n",
            "35742 1.9 1.1\n",
            "38528 3.9 3.1\n",
            "65369 19.9 19.1\n",
            "72763 4.9 4.1\n",
            "96804 16.9 16.1\n",
            "109485 5.9 5.1\n",
            "140313 2.9 2.1\n",
            "187376 8.9 8.1\n",
            "196501 10.9 10.1\n",
            "11 1718\n"
          ],
          "name": "stdout"
        }
      ]
    },
    {
      "cell_type": "code",
      "metadata": {
        "colab": {
          "base_uri": "https://localhost:8080/"
        },
        "id": "YoTSlvzfxbO3",
        "outputId": "57c119bd-589e-4913-907c-22b59e690fad"
      },
      "source": [
        "def show_around(x):\n",
        "  print(df['ball'][x-2],df['ball'][x-1],df['ball'][x],df['ball'][x+1],df['ball'][x+2])\n",
        "  print('-------------------------------------------')\n",
        "\n",
        "print(len(ball_update_needed))\n",
        "for (index,val) in ball_update_needed:\n",
        "  show_around(index)"
      ],
      "execution_count": 48,
      "outputs": [
        {
          "output_type": "stream",
          "text": [
            "11\n",
            "6.8 6.9 6.1 7.1 7.2\n",
            "-------------------------------------------\n",
            "18.8 18.9 18.1 19.1 19.2\n",
            "-------------------------------------------\n",
            "1.8 1.9 1.1 2.1 2.2\n",
            "-------------------------------------------\n",
            "3.8 3.9 3.1 4.1 4.2\n",
            "-------------------------------------------\n",
            "19.8 19.9 19.1 0.1 0.2\n",
            "-------------------------------------------\n",
            "4.8 4.9 4.1 5.1 5.2\n",
            "-------------------------------------------\n",
            "16.8 16.9 16.1 17.1 17.2\n",
            "-------------------------------------------\n",
            "5.8 5.9 5.1 6.1 6.2\n",
            "-------------------------------------------\n",
            "2.8 2.9 2.1 3.1 3.2\n",
            "-------------------------------------------\n",
            "8.8 8.9 8.1 9.1 9.2\n",
            "-------------------------------------------\n",
            "10.8 10.9 10.1 11.1 11.2\n",
            "-------------------------------------------\n"
          ],
          "name": "stdout"
        }
      ]
    },
    {
      "cell_type": "code",
      "metadata": {
        "colab": {
          "base_uri": "https://localhost:8080/"
        },
        "id": "Vpb7Xo4op9ls",
        "outputId": "10911519-04b5-4b15-9b62-692664e60453"
      },
      "source": [
        "def update_ball(index,val):\n",
        "  df['ball'][index]=val\n",
        "\n",
        "for (index,val) in ball_update_needed:\n",
        "  update_ball(index,val)\n",
        "  show_around(index)\n"
      ],
      "execution_count": 49,
      "outputs": [
        {
          "output_type": "stream",
          "text": [
            "6.8 6.9 6.10 7.1 7.2\n",
            "-------------------------------------------\n",
            "18.8 18.9 18.10 19.1 19.2\n",
            "-------------------------------------------\n",
            "1.8 1.9 1.10 2.1 2.2\n",
            "-------------------------------------------\n",
            "3.8 3.9 3.10 4.1 4.2\n",
            "-------------------------------------------\n",
            "19.8 19.9 19.10 0.1 0.2\n",
            "-------------------------------------------\n",
            "4.8 4.9 4.10 5.1 5.2\n",
            "-------------------------------------------\n",
            "16.8 16.9 16.10 17.1 17.2\n",
            "-------------------------------------------\n",
            "5.8 5.9 5.10 6.1 6.2\n",
            "-------------------------------------------\n",
            "2.8 2.9 2.10 3.1 3.2\n",
            "-------------------------------------------\n",
            "8.8 8.9 8.10 9.1 9.2\n",
            "-------------------------------------------\n",
            "10.8 10.9 10.10 11.1 11.2\n",
            "-------------------------------------------\n"
          ],
          "name": "stdout"
        },
        {
          "output_type": "stream",
          "text": [
            "/usr/local/lib/python3.7/dist-packages/ipykernel_launcher.py:2: SettingWithCopyWarning: \n",
            "A value is trying to be set on a copy of a slice from a DataFrame\n",
            "\n",
            "See the caveats in the documentation: https://pandas.pydata.org/pandas-docs/stable/user_guide/indexing.html#returning-a-view-versus-a-copy\n",
            "  \n"
          ],
          "name": "stderr"
        }
      ]
    },
    {
      "cell_type": "code",
      "metadata": {
        "id": "tGrQmX4ZnU5G",
        "colab": {
          "base_uri": "https://localhost:8080/"
        },
        "outputId": "18893f78-f91e-41bb-9648-56025ef73612"
      },
      "source": [
        "df['ball'].unique()"
      ],
      "execution_count": 50,
      "outputs": [
        {
          "output_type": "execute_result",
          "data": {
            "text/plain": [
              "array(['0.1', '0.2', '0.3', '0.4', '0.5', '0.6', '0.7', '1.1', '1.2',\n",
              "       '1.3', '1.4', '1.5', '1.6', '2.1', '2.2', '2.3', '2.4', '2.5',\n",
              "       '2.6', '3.1', '3.2', '3.3', '3.4', '3.5', '3.6', '3.7', '4.1',\n",
              "       '4.2', '4.3', '4.4', '4.5', '4.6', '5.1', '5.2', '5.3', '5.4',\n",
              "       '5.5', '5.6', '6.1', '6.2', '6.3', '6.4', '6.5', '6.6', '7.1',\n",
              "       '7.2', '7.3', '7.4', '7.5', '7.6', '8.1', '8.2', '8.3', '8.4',\n",
              "       '8.5', '8.6', '9.1', '9.2', '9.3', '9.4', '9.5', '9.6', '10.1',\n",
              "       '10.2', '10.3', '10.4', '10.5', '10.6', '11.1', '11.2', '11.3',\n",
              "       '11.4', '11.5', '11.6', '12.1', '12.2', '12.3', '12.4', '12.5',\n",
              "       '12.6', '12.7', '13.1', '13.2', '13.3', '13.4', '13.5', '13.6',\n",
              "       '14.1', '14.2', '14.3', '14.4', '14.5', '14.6', '14.7', '15.1',\n",
              "       '15.2', '15.3', '15.4', '15.5', '15.6', '16.1', '16.2', '16.3',\n",
              "       '16.4', '16.5', '16.6', '17.1', '17.2', '17.3', '17.4', '17.5',\n",
              "       '17.6', '18.1', '18.2', '18.3', '18.4', '18.5', '18.6', '19.1',\n",
              "       '19.2', '19.3', '19.4', '19.5', '19.6', '2.7', '6.7', '6.8', '8.7',\n",
              "       '8.8', '9.7', '1.7', '12.8', '5.7', '5.8', '13.7', '7.7', '1.8',\n",
              "       '15.7', '16.7', '11.7', '11.8', '11.9', '4.7', '13.8', '19.7',\n",
              "       '3.8', '17.7', '18.7', '0.8', '10.7', '10.8', '10.9', '18.8',\n",
              "       '7.8', '2.8', '6.9', '6.10', '1.9', '5.9', '19.8', '19.9', '4.8',\n",
              "       '0.9', '18.9', '18.10', '16.8', '16.9', '17.8', '14.8', '3.9',\n",
              "       '15.8', '9.8', '17.9', '4.9', '14.9', '1.10', '2.9', '3.10',\n",
              "       '13.9', '8.9', '15.9', '19.10', '4.10', '16.10', '5.10', '9.9',\n",
              "       '7.9', '2.10', '12.9', '8.10', '10.10'], dtype=object)"
            ]
          },
          "metadata": {
            "tags": []
          },
          "execution_count": 50
        }
      ]
    },
    {
      "cell_type": "code",
      "metadata": {
        "id": "yoKFbao81bu-"
      },
      "source": [
        "df.to_csv('ball-data',index=False)"
      ],
      "execution_count": 54,
      "outputs": []
    },
    {
      "cell_type": "code",
      "metadata": {
        "colab": {
          "base_uri": "https://localhost:8080/"
        },
        "id": "haj0aiCaeEcz",
        "outputId": "87be4615-f715-4ea4-8875-4595f3e1f482"
      },
      "source": [
        "df.columns"
      ],
      "execution_count": 52,
      "outputs": [
        {
          "output_type": "execute_result",
          "data": {
            "text/plain": [
              "Index(['match_id', 'season', 'start_date', 'venue', 'innings', 'ball',\n",
              "       'batting_team', 'bowling_team', 'striker', 'non_striker', 'bowler',\n",
              "       'runs_off_bat', 'extras', 'wides', 'noballs', 'byes', 'legbyes',\n",
              "       'penalty', 'wicket_type', 'player_dismissed', 'other_wicket_type',\n",
              "       'other_player_dismissed'],\n",
              "      dtype='object')"
            ]
          },
          "metadata": {
            "tags": []
          },
          "execution_count": 52
        }
      ]
    },
    {
      "cell_type": "code",
      "metadata": {
        "id": "L0uVvEcre6R0",
        "colab": {
          "base_uri": "https://localhost:8080/",
          "height": 394
        },
        "outputId": "20ae1d87-da10-486f-b47f-24cfcf1be283"
      },
      "source": [
        "df.head()"
      ],
      "execution_count": 53,
      "outputs": [
        {
          "output_type": "execute_result",
          "data": {
            "text/html": [
              "<div>\n",
              "<style scoped>\n",
              "    .dataframe tbody tr th:only-of-type {\n",
              "        vertical-align: middle;\n",
              "    }\n",
              "\n",
              "    .dataframe tbody tr th {\n",
              "        vertical-align: top;\n",
              "    }\n",
              "\n",
              "    .dataframe thead th {\n",
              "        text-align: right;\n",
              "    }\n",
              "</style>\n",
              "<table border=\"1\" class=\"dataframe\">\n",
              "  <thead>\n",
              "    <tr style=\"text-align: right;\">\n",
              "      <th></th>\n",
              "      <th>match_id</th>\n",
              "      <th>season</th>\n",
              "      <th>start_date</th>\n",
              "      <th>venue</th>\n",
              "      <th>innings</th>\n",
              "      <th>ball</th>\n",
              "      <th>batting_team</th>\n",
              "      <th>bowling_team</th>\n",
              "      <th>striker</th>\n",
              "      <th>non_striker</th>\n",
              "      <th>bowler</th>\n",
              "      <th>runs_off_bat</th>\n",
              "      <th>extras</th>\n",
              "      <th>wides</th>\n",
              "      <th>noballs</th>\n",
              "      <th>byes</th>\n",
              "      <th>legbyes</th>\n",
              "      <th>penalty</th>\n",
              "      <th>wicket_type</th>\n",
              "      <th>player_dismissed</th>\n",
              "      <th>other_wicket_type</th>\n",
              "      <th>other_player_dismissed</th>\n",
              "    </tr>\n",
              "  </thead>\n",
              "  <tbody>\n",
              "    <tr>\n",
              "      <th>0</th>\n",
              "      <td>335982</td>\n",
              "      <td>2008</td>\n",
              "      <td>2008-04-18</td>\n",
              "      <td>M Chinnaswamy Stadium</td>\n",
              "      <td>1</td>\n",
              "      <td>0.1</td>\n",
              "      <td>Kolkata Knight Riders</td>\n",
              "      <td>Royal Challengers Bangalore</td>\n",
              "      <td>SC Ganguly</td>\n",
              "      <td>BB McCullum</td>\n",
              "      <td>P Kumar</td>\n",
              "      <td>0</td>\n",
              "      <td>1</td>\n",
              "      <td>0</td>\n",
              "      <td>0</td>\n",
              "      <td>0</td>\n",
              "      <td>1</td>\n",
              "      <td>0</td>\n",
              "      <td>NaN</td>\n",
              "      <td>NaN</td>\n",
              "      <td>NaN</td>\n",
              "      <td>NaN</td>\n",
              "    </tr>\n",
              "    <tr>\n",
              "      <th>1</th>\n",
              "      <td>335982</td>\n",
              "      <td>2008</td>\n",
              "      <td>2008-04-18</td>\n",
              "      <td>M Chinnaswamy Stadium</td>\n",
              "      <td>1</td>\n",
              "      <td>0.2</td>\n",
              "      <td>Kolkata Knight Riders</td>\n",
              "      <td>Royal Challengers Bangalore</td>\n",
              "      <td>BB McCullum</td>\n",
              "      <td>SC Ganguly</td>\n",
              "      <td>P Kumar</td>\n",
              "      <td>0</td>\n",
              "      <td>0</td>\n",
              "      <td>0</td>\n",
              "      <td>0</td>\n",
              "      <td>0</td>\n",
              "      <td>0</td>\n",
              "      <td>0</td>\n",
              "      <td>NaN</td>\n",
              "      <td>NaN</td>\n",
              "      <td>NaN</td>\n",
              "      <td>NaN</td>\n",
              "    </tr>\n",
              "    <tr>\n",
              "      <th>2</th>\n",
              "      <td>335982</td>\n",
              "      <td>2008</td>\n",
              "      <td>2008-04-18</td>\n",
              "      <td>M Chinnaswamy Stadium</td>\n",
              "      <td>1</td>\n",
              "      <td>0.3</td>\n",
              "      <td>Kolkata Knight Riders</td>\n",
              "      <td>Royal Challengers Bangalore</td>\n",
              "      <td>BB McCullum</td>\n",
              "      <td>SC Ganguly</td>\n",
              "      <td>P Kumar</td>\n",
              "      <td>0</td>\n",
              "      <td>1</td>\n",
              "      <td>1</td>\n",
              "      <td>0</td>\n",
              "      <td>0</td>\n",
              "      <td>0</td>\n",
              "      <td>0</td>\n",
              "      <td>NaN</td>\n",
              "      <td>NaN</td>\n",
              "      <td>NaN</td>\n",
              "      <td>NaN</td>\n",
              "    </tr>\n",
              "    <tr>\n",
              "      <th>3</th>\n",
              "      <td>335982</td>\n",
              "      <td>2008</td>\n",
              "      <td>2008-04-18</td>\n",
              "      <td>M Chinnaswamy Stadium</td>\n",
              "      <td>1</td>\n",
              "      <td>0.4</td>\n",
              "      <td>Kolkata Knight Riders</td>\n",
              "      <td>Royal Challengers Bangalore</td>\n",
              "      <td>BB McCullum</td>\n",
              "      <td>SC Ganguly</td>\n",
              "      <td>P Kumar</td>\n",
              "      <td>0</td>\n",
              "      <td>0</td>\n",
              "      <td>0</td>\n",
              "      <td>0</td>\n",
              "      <td>0</td>\n",
              "      <td>0</td>\n",
              "      <td>0</td>\n",
              "      <td>NaN</td>\n",
              "      <td>NaN</td>\n",
              "      <td>NaN</td>\n",
              "      <td>NaN</td>\n",
              "    </tr>\n",
              "    <tr>\n",
              "      <th>4</th>\n",
              "      <td>335982</td>\n",
              "      <td>2008</td>\n",
              "      <td>2008-04-18</td>\n",
              "      <td>M Chinnaswamy Stadium</td>\n",
              "      <td>1</td>\n",
              "      <td>0.5</td>\n",
              "      <td>Kolkata Knight Riders</td>\n",
              "      <td>Royal Challengers Bangalore</td>\n",
              "      <td>BB McCullum</td>\n",
              "      <td>SC Ganguly</td>\n",
              "      <td>P Kumar</td>\n",
              "      <td>0</td>\n",
              "      <td>0</td>\n",
              "      <td>0</td>\n",
              "      <td>0</td>\n",
              "      <td>0</td>\n",
              "      <td>0</td>\n",
              "      <td>0</td>\n",
              "      <td>NaN</td>\n",
              "      <td>NaN</td>\n",
              "      <td>NaN</td>\n",
              "      <td>NaN</td>\n",
              "    </tr>\n",
              "  </tbody>\n",
              "</table>\n",
              "</div>"
            ],
            "text/plain": [
              "   match_id season  ... other_wicket_type other_player_dismissed\n",
              "0    335982   2008  ...               NaN                    NaN\n",
              "1    335982   2008  ...               NaN                    NaN\n",
              "2    335982   2008  ...               NaN                    NaN\n",
              "3    335982   2008  ...               NaN                    NaN\n",
              "4    335982   2008  ...               NaN                    NaN\n",
              "\n",
              "[5 rows x 22 columns]"
            ]
          },
          "metadata": {
            "tags": []
          },
          "execution_count": 53
        }
      ]
    }
  ]
}